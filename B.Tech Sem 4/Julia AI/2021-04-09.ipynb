{
 "cells": [
  {
   "cell_type": "markdown",
   "metadata": {},
   "source": [
    "# Introduction to Linear Regression\n",
    "Linear Regression is one of the most basic Machine Learning algorithms that is used to predict a dependent variable based on one or more independent variables. The dependent variable (Y) should be continuous. Linear Regression finds the mathematical problem that best describes the Y variable sa a sunction of X variables (features). Once the equation is formed\n"
   ]
  },
  {
   "cell_type": "markdown",
   "metadata": {},
   "source": [
    "# 2. Simple Linear Regression with Julia\n",
    "For this implementation, I would be using the life expectency data.\n",
    "\n",
    "The goal is to predict the expectency of people in various countries depending on the various features and demographics. Let's see how to do this in Julia."
   ]
  },
  {
   "cell_type": "raw",
   "metadata": {},
   "source": [
    "# Import Packages\n",
    "using Pkg   # Package to install more packages\n",
    "# Install Packages\n",
    "Pkg.add(\"DataFrames\")\n",
    "Pkg.add(\"CSV\")\n",
    "Pkg.add(\"Plots\")\n",
    "Pkg.add(\"Lathe\")\n",
    "Pkg.add(\"GLM\")\n",
    "Pkg.add(\"StatsPlots\")\n",
    "Pkg.add(\"MLBase\")"
   ]
  },
  {
   "cell_type": "raw",
   "metadata": {},
   "source": [
    "using CSV\n",
    "using DataFrames\n",
    "using Plots\n",
    "using Lathe\n",
    "using GLM\n",
    "using Statistics\n",
    "using StatsPlots\n",
    "using MLBase\n",
    "# Enable Printing of 1000 Columns:\n",
    "ENV[\"COLUMNS\"] = 1000"
   ]
  },
  {
   "cell_type": "markdown",
   "metadata": {},
   "source": [
    "## Lathe\n",
    "An all in one package for predictive packaging (like sklearn). It comes packaged with "
   ]
  },
  {
   "cell_type": "raw",
   "metadata": {},
   "source": [
    "# Read the file using CSV.file and convert it to DataFrame\n",
    "df = DataFrame(CSV.File(\"./res/Life_Expectancy.csv\"))"
   ]
  },
  {
   "cell_type": "raw",
   "metadata": {},
   "source": [
    "names(df)"
   ]
  },
  {
   "cell_type": "raw",
   "metadata": {},
   "source": [
    "# Fix column names by replacing ' ', '-', '/' with '_'\n",
    "colnames = Symbol[]\n",
    "for i in string.(names(df))\n",
    "    push!(colnames,Symbol(replace(replace(replace(strip(i), \" \"=>\"_\"),\"-\"=>\"_\" ), \"/\"=>\"_\")))\n",
    "end\n",
    "\n",
    "rename!(df, colnames);"
   ]
  },
  {
   "cell_type": "markdown",
   "metadata": {},
   "source": [
    "Linear Regression works well when there aren't any outliers present in the data. Let's check out the outliers in y variable, i.e. Life Expectancy"
   ]
  },
  {
   "cell_type": "raw",
   "metadata": {},
   "source": [
    "# Box Plot\n",
    "boxplot(df.Life_expectancy, title=\"Box Plot - Life Expectancy\", ylabel=\"Life Expectancy (years)\", legand=false)"
   ]
  },
  {
   "cell_type": "raw",
   "metadata": {},
   "source": [
    "boxplot(df.Life_expectancy, title=\"Box Plot - Life Expectancy\", ylabel=\"Life Expectancy (years)\", legand=true)"
   ]
  },
  {
   "cell_type": "markdown",
   "metadata": {},
   "source": [
    "# Removing the outlier in the data, represented by the points below the bottom leaf."
   ]
  },
  {
   "cell_type": "raw",
   "metadata": {},
   "source": [
    "# outlier removal\n",
    "first_percentile = percentile(df.Life_expectancy, 25)\n",
    "iqr_value = iqr(df.Life_expectancy)\n",
    "df = df[df.Life_expectancy .>  (first_percentile - 1.5*iqr_value), :];"
   ]
  },
  {
   "cell_type": "raw",
   "metadata": {},
   "source": [
    "# Density Plot\n",
    "density(df.Life_expectancy, title=\"Density Plot - Life Expectancy\", ylabel=\"Life Expectancy (years)\", legand=false)"
   ]
  },
  {
   "cell_type": "raw",
   "metadata": {},
   "source": [
    "println(\"Correlation of Life_expectancy with Adult_Mortality is: \", cor(df.Adult_Mortality,df.Life_expectancy), \"\\n\\n\")"
   ]
  },
  {
   "cell_type": "raw",
   "metadata": {},
   "source": [
    "# scatter Plot\n",
    "scatter(df.Adult_Mortality, df.Life_expectancy, title=\"scatter Plot - Life Expectancy\", ylabel=\"Life Expectancy (years)\", legand=false)"
   ]
  },
  {
   "cell_type": "markdown",
   "metadata": {},
   "source": [
    "**2021-04-12**"
   ]
  },
  {
   "cell_type": "raw",
   "metadata": {},
   "source": [
    "using Lathe.preprocess: TrainTestSplit\n",
    "train, test= TrainTestSplit(df,.75)"
   ]
  },
  {
   "cell_type": "raw",
   "metadata": {},
   "source": [
    "fm = @formula(Life_expectancy~Adult_Mortality)\n",
    "linearRegressor = lm(fm, train)"
   ]
  },
  {
   "cell_type": "raw",
   "metadata": {},
   "source": [
    "r2(linearRegressor)"
   ]
  },
  {
   "cell_type": "raw",
   "metadata": {},
   "source": [
    "ypredicted_test=predict(linearRegressor, test)\n",
    "ypredicted_train=predict(linearRegressor, train)\n",
    "\n",
    "# Test Performance DataFrame (compute squared error)\n",
    "performance_testdf = DataFrame(y_actual = test[!,:Life_expectancy], y_predicted=ypredicted_test)\n",
    "performance_testdf.error = performance_testdf[!,:y_actual] - performance_testdf[!,:y_predicted]\n",
    "performance_testdf.error_sq = performance_testdf.error.*performance_testdf.error\n",
    "\n",
    "# Train Performance DataFrame (compute squared error)\n",
    "performance_traindf = DataFrame(y_actual = test[!,:Life_expectancy], y_predicted=ypredicted_test)\n",
    "performance_traindf.error = performance_traindf[!,:y_actual] - performance_traindf[!,:y_predicted]\n",
    "performance_traindf.error_sq = performance_traindf.error.*performance_traindf.error ;"
   ]
  },
  {
   "cell_type": "raw",
   "metadata": {},
   "source": [
    "function mape(performance_df)\n",
    "    mape = mean.(abs.(performance_df.error./performance_df.y_actual))\n",
    "    return mape\n",
    "end"
   ]
  },
  {
   "cell_type": "raw",
   "metadata": {},
   "source": [
    "function rmse(performance_df)\n",
    "    rmse = sqrt(mean(performance_df.error.*performance_df.error))\n",
    "    return rmse\n",
    "end"
   ]
  },
  {
   "cell_type": "raw",
   "metadata": {},
   "source": [
    "# Test error\n",
    "println(\"Mean Absolute test error: \", mean(abs.(performance_testdf.error)), \"\\n\")\n",
    "println(\"Mean Absolute Percentage test error: \", mape(performance_testdf), \"\\n\")\n",
    "println(\"Root mean square test error: \", rmse(performance_testdf), \"\\n\")\n",
    "println(\"Mean square test error: \", mean(performance_testdf.error_sq), \"\\n\")"
   ]
  },
  {
   "cell_type": "raw",
   "metadata": {},
   "source": [
    "# Train error\n",
    "println(\"Mean Absolute test error: \", mean(abs.(performance_traindf.error)), \"\\n\")\n",
    "println(\"Mean Absolute Percentage test error: \", mape(performance_traindf), \"\\n\")\n",
    "println(\"Root mean square test error: \", rmse(performance_traindf), \"\\n\")\n",
    "println(\"Mean square test error: \", mean(performance_traindf.error_sq), \"\\n\")"
   ]
  },
  {
   "cell_type": "raw",
   "metadata": {},
   "source": [
    "histogram(performance_testdf.error, bins=50 ,title=\"Test error analysis\",ylabel=\"Frequency\",xlabel=\"Error\",legend=false)"
   ]
  },
  {
   "cell_type": "raw",
   "metadata": {},
   "source": [
    "test_plot = scatter(performance_testdf[!,:y_actual],performance_testdf[!,:y_predicted], title=\"Predicted Value vs Actual Value\")"
   ]
  },
  {
   "cell_type": "raw",
   "metadata": {},
   "source": []
  }
 ],
 "metadata": {
  "kernelspec": {
   "display_name": "Julia 1.6.0",
   "language": "julia",
   "name": "julia-1.6"
  },
  "language_info": {
   "file_extension": ".jl",
   "mimetype": "application/julia",
   "name": "julia",
   "version": "1.6.0"
  },
  "orig_nbformat": 2
 },
 "nbformat": 4,
 "nbformat_minor": 2
}