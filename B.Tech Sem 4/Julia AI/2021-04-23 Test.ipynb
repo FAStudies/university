{
 "cells": [
  {
   "cell_type": "markdown",
   "metadata": {},
   "source": [
    "# JULIA TEST\n",
    "<hr>\n",
    "\n",
    "**Harsh Chaturvedi**    \n",
    "**Section:** ML    \n",
    "**Roll No:** 2014669    \n",
    "<hr>\n",
    "\n",
    "1.\tWrite a program in JULIA to make a regression for the given Salary_Data.csv(Linear Model).    \n",
    "2.\tWhat is dummy variable trap, how do we overcome dummy variable trap.\n",
    "3.\tExplain with example the functioning of onehotencode.\n",
    "4.\tExplain how Array in JULIA is different from contemporary languages like C,C++,JAVA and Python.\n",
    "5.\tExplain the advantages of JULIA over other languages."
   ]
  },
  {
   "cell_type": "markdown",
   "metadata": {},
   "source": [
    "# 1. Write a program in JULIA to make a regression for the given Salary_Data.csv(Linear Model).  "
   ]
  },
  {
   "cell_type": "raw",
   "metadata": {},
   "source": [
    "using Pandas\n",
    "using DataFrames"
   ]
  },
  {
   "cell_type": "raw",
   "metadata": {},
   "source": [
    "df = read_csv(\"./res/Salary_Data.csv\")"
   ]
  },
  {
   "cell_type": "raw",
   "metadata": {},
   "source": [
    "y = df[\"Salary\"]\n",
    "x = drop(df,\"Salary\",axis=1)"
   ]
  },
  {
   "cell_type": "raw",
   "metadata": {},
   "source": [
    "using ScikitLearn\n",
    "@sk_import model_selection: train_test_split \n",
    "x_train, x_test, y_train, y_test=train_test_split(x,y,test_size=0.20,random_state=0)"
   ]
  },
  {
   "cell_type": "raw",
   "metadata": {},
   "source": [
    "@sk_import linear_model: LinearRegression\n",
    "model = LinearRegression().fit(x_train, y_train)"
   ]
  },
  {
   "cell_type": "raw",
   "metadata": {},
   "source": [
    "pred = ScikitLearn.predict(model, x_test)"
   ]
  },
  {
   "cell_type": "markdown",
   "metadata": {},
   "source": [
    "# 2. What is dummy variable trap, how do we overcome dummy variable trap."
   ]
  },
  {
   "cell_type": "markdown",
   "metadata": {},
   "source": [
    "The Dummy variable trap is a scenario where there are attributes which are highly correlated (Multicollinear) and one variable predicts the value of others. When we use one hot encoding for handling the categorical data, then one dummy variable (attribute) can be predicted with the help of other dummy variables. Hence, one dummy variable is highly correlated with other dummy variables. Using all dummy variables for regression models lead to dummy variable trap. So, the regression models should be designed excluding one dummy variable."
   ]
  },
  {
   "cell_type": "markdown",
   "metadata": {},
   "source": [
    "# 3.\tExplain with example the functioning of onehotencode."
   ]
  },
  {
   "cell_type": "markdown",
   "metadata": {},
   "source": [
    "In One-Hot Encoding, an integer encoded variable is removed and a new binary variable is added for each unique integer value."
   ]
  },
  {
   "cell_type": "markdown",
   "metadata": {},
   "source": [
    "## Example"
   ]
  },
  {
   "cell_type": "raw",
   "metadata": {},
   "source": [
    "df = DataFrames.DataFrame(x=rand([1:3;missing], 20))"
   ]
  },
  {
   "cell_type": "raw",
   "metadata": {},
   "source": [
    "ux = unique(df.x); DataFrames.transform(df, @. :x => ByRow(isequal(ux)) .=> Symbol(:x_, ux))"
   ]
  },
  {
   "cell_type": "markdown",
   "metadata": {},
   "source": [
    "# 4.\tExplain how Array in JULIA is different from contemporary languages like C,C++,JAVA and Python."
   ]
  },
  {
   "cell_type": "markdown",
   "metadata": {},
   "source": [
    "- Julia is build with Data-Science in mind, and contains a lot of libraries to handle and analyse large data.\n",
    "- Julia supports JIT compilation, making it faster than most other languages like Java.\n",
    "- Julia supports Interactive REPL command line.\n",
    "- Julia has better support for paradiagms like Object-Oriented Programming.\n",
    "- Julia has modern features like type-inference and has better memory management.\n",
    "- Julia can also be used as a general purpose programming language."
   ]
  },
  {
   "cell_type": "markdown",
   "metadata": {},
   "source": [
    "# 5.\tExplain the advantages of JULIA over other languages."
   ]
  },
  {
   "cell_type": "markdown",
   "metadata": {},
   "source": [
    "- Julia has a straightforward yet powerful syntax.\n",
    "- Julia features an interactive command-line called REPL (Read Eval Print Loop) to help coders easily add quick commands and scripts.\n",
    "- Julia enables you to specify types for variables, and it also enables you to build hierarchies of types so that general cases can handle specific types of variables.\n",
    "- It offers a faster runtime performance. It uses the LLVM framework for just-in-time compilation (JIT). Thanks to this approach, Julia can offer the same speed as C.\n",
    "- Julia can work directly with various external libraries. For example, you can use the PyCall library to interface with code written in Python, and even exchange data between Julia and Python.\n",
    "- Julia’s debugging suite can execute code in a local REPL so you can check variables, results, and add breakpoints.\n",
    "- Programs written in Julia can generate other Julia apps and change their own code."
   ]
  }
 ],
 "metadata": {
  "kernelspec": {
   "display_name": "Julia 1.6.0",
   "name": "julia-1.6"
  },
  "language_info": {
   "file_extension": ".jl",
   "mimetype": "application/julia",
   "name": "julia",
   "version": "1.6.0"
  },
  "orig_nbformat": 2
 },
 "nbformat": 4,
 "nbformat_minor": 2
}