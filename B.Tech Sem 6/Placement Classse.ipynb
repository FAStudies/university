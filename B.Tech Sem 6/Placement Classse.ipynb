{
 "cells": [
  {
   "cell_type": "markdown",
   "metadata": {},
   "source": [
    "# Operating Systems"
   ]
  },
  {
   "cell_type": "markdown",
   "metadata": {},
   "source": [
    "**2022-04-05**"
   ]
  },
  {
   "cell_type": "markdown",
   "metadata": {},
   "source": [
    "## Main Terminologies\n",
    "\n",
    "### Process\n",
    "Program under Execution\n",
    "\n",
    "### Program\n",
    "Set of instructions stored on Hard Drive.\n",
    "\n",
    "### Thread\n",
    "A lightweight process."
   ]
  },
  {
   "cell_type": "markdown",
   "metadata": {},
   "source": [
    "## Context\n",
    "\n",
    "Whatever resources needed by a program is stored in context.\n",
    "\n",
    "A PCB (Process control block) is also called context.\n",
    "\n",
    "A context stores:\n",
    "\n",
    "- **PID:** Process ID is a unique identifier for the program. No two programs can have same process ID.\n",
    "- **Size**\n",
    "- **Space**\n",
    "- **Register**\n",
    "- **Open Files**\n",
    "- **Permissions**\n",
    "\n",
    "### Permissions\n",
    "- **r**: Read\n",
    "- **w**: Write\n",
    "- **x**: Execute\n",
    "\n",
    "Permissions can be changed by `chmod` command.\n",
    "\n",
    "\n",
    "### Permission Codes in UNIX\n",
    "- **777**: Full read, write and execute.\n",
    "- **000**: No permissions."
   ]
  },
  {
   "cell_type": "markdown",
   "metadata": {},
   "source": [
    "## States of a Program\n",
    "\n",
    "There are 7 states of a program\n",
    "\n",
    "- **New State:** When a process is created with its context, it is sent into a new state. In this state, the program is stored in RAM.\n",
    "- **Ready State:** When a program is waiting to be executed on CPU, it is sent into ready state. In this state, the program is stored in RAM.\n",
    "- **Execution State:** When a program is being executed by the CPU, it is said to be in execution state.  In this state, the program is stored in CPU.\n",
    "- **Waiting State:** When a program is performing for some IO operation, it is not being executed by the CPU, and it is in waiting state.\n",
    "- **Suspended Ready State:** When a program is waiting to be executed on CPU, but it is suspended, it is sent into suspended ready state. In this state, the program is stored in Swap space or virtual memory in Hard Drive.\n",
    "- **Suspended Waiting State:** When a program is waiting for it's turn to perform some IO operation, and it is in suspended waiting state. In this state, the program is stored in Swap space or virtual memory in Hard Drive.\n",
    "- **Termination State:** When a program finises executing and is completed, it is sent into termination state.\n",
    "\n",
    "### 5 State Diagram:\n",
    "\n",
    "### 6 State Diagram:\n",
    "\n",
    "### 7 State Diagram:\n"
   ]
  },
  {
   "cell_type": "markdown",
   "metadata": {},
   "source": [
    "## Schedulars\n",
    "\n",
    "_Decision Makers_\n",
    "\n",
    "Schdulers decide which program to execute next.\n",
    "\n",
    "### Types of Schedulers\n",
    "\n",
    "- **LTS (Long Term Scheduler):** It is used to send a program from new state to ready state.\n",
    "- **STS (Short Term Scheduler):** It is used to send a program from ready state to execution state.\n",
    "- **MTS (Medium Term Scheduler):** It is used to send a program from ready state to suspended ready state and vice versa.\n"
   ]
  },
  {
   "cell_type": "markdown",
   "metadata": {},
   "source": [
    "## Dispatchers\n",
    "\n",
    "_Postmans_\n",
    "\n",
    "Disptchers send the programs for execution."
   ]
  },
  {
   "cell_type": "markdown",
   "metadata": {},
   "source": [
    "## Kernal\n",
    "- It is a part of OS which resides in memory from start till end.\n",
    "- It is the most important utility of an operating system, without which an OS cannot function. \n",
    "\n",
    "### Micro-kernal\n",
    "Some utilities which are pushed into user space and executed at user level are called micro-kernal."
   ]
  }
 ],
 "metadata": {
  "interpreter": {
   "hash": "aee8b7b246df8f9039afb4144a1f6fd8d2ca17a180786b69acc140d282b71a49"
  },
  "kernelspec": {
   "display_name": "Python 3.9.10 64-bit",
   "language": "python",
   "name": "python3"
  },
  "language_info": {
   "name": "python",
   "version": "3.9.10"
  },
  "orig_nbformat": 4
 },
 "nbformat": 4,
 "nbformat_minor": 2
}
