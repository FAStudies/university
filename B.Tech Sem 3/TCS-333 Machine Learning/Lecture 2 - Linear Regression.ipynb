{
 "cells": [
  {
   "cell_type": "markdown",
   "metadata": {},
   "source": [
    "**LECTURE 2**"
   ]
  },
  {
   "cell_type": "markdown",
   "metadata": {},
   "source": [
    "# Linear Regression"
   ]
  },
  {
   "cell_type": "markdown",
   "metadata": {},
   "source": [
    "## Notebook Imports"
   ]
  },
  {
   "cell_type": "code",
   "execution_count": 1,
   "metadata": {},
   "outputs": [],
   "source": [
    "import numpy as np\n",
    "import matplotlib.pyplot as plt"
   ]
  },
  {
   "cell_type": "markdown",
   "metadata": {},
   "source": [
    "## Functions for W0 and W1"
   ]
  },
  {
   "cell_type": "code",
   "execution_count": 2,
   "metadata": {},
   "outputs": [],
   "source": [
    "def findW1(x,y):\n",
    "    numerator = np.sum(x*y - np.mean(y)*x)\n",
    "    denominator = np.sum(x*x - np.mean(x)*x)\n",
    "    return numerator/denominator\n",
    "\n",
    "def findW0(x,y):\n",
    "    return np.mean(y) - findW1(x,y) * np.mean(x)"
   ]
  },
  {
   "cell_type": "markdown",
   "metadata": {},
   "source": [
    "## Make Data\n",
    "x = Size/Diameter of Pizza      \n",
    "y = Price of Pizza"
   ]
  },
  {
   "cell_type": "code",
   "execution_count": 3,
   "metadata": {},
   "outputs": [],
   "source": [
    "x = np.array([[6],[8],[10],[14],[18]])\n",
    "y = np.array([[7],[9],[13],[17.5],[18]])"
   ]
  },
  {
   "cell_type": "markdown",
   "metadata": {},
   "source": [
    "## Graph/Plot Data (Scatter Plot)"
   ]
  },
  {
   "cell_type": "code",
   "execution_count": 4,
   "metadata": {},
   "outputs": [
    {
     "data": {
      "image/png": "[encoded data removed]",
      "text/plain": [
       "<Figure size 432x288 with 1 Axes>"
      ]
     },
     "metadata": {
      "needs_background": "light"
     },
     "output_type": "display_data"
    }
   ],
   "source": [
    "plt.scatter(x,y)\n",
    "plt.xlabel('Diameter of Pizza')\n",
    "plt.ylabel('Price of Pizza')\n",
    "plt.show()"
   ]
  },
  {
   "cell_type": "markdown",
   "metadata": {},
   "source": [
    "## Find W0 and W1"
   ]
  },
  {
   "cell_type": "code",
   "execution_count": 5,
   "metadata": {},
   "outputs": [],
   "source": [
    "W0 = findW0(x,y)\n",
    "W1 = findW1(x,y)"
   ]
  },
  {
   "cell_type": "code",
   "execution_count": 6,
   "metadata": {},
   "outputs": [
    {
     "name": "stdout",
     "output_type": "stream",
     "text": [
      "1.9655172413793185 0.9762931034482752\n"
     ]
    }
   ],
   "source": [
    "print(W0, W1)"
   ]
  },
  {
   "cell_type": "markdown",
   "metadata": {},
   "source": [
    "## Performing Linear Regression"
   ]
  },
  {
   "cell_type": "code",
   "execution_count": 9,
   "metadata": {},
   "outputs": [
    {
     "data": {
      "image/png": "[encoded data removed]",
      "text/plain": [
       "<Figure size 432x288 with 1 Axes>"
      ]
     },
     "metadata": {
      "needs_background": "light"
     },
     "output_type": "display_data"
    }
   ],
   "source": [
    "xplot = []\n",
    "yplot = []\n",
    "\n",
    "for i in range(6,19):\n",
    "    xplot.append(i)\n",
    "    yplot.append(W1*i+W0)\n",
    "    \n",
    "plt.plot(xplot, yplot)\n",
    "plt.scatter(x,y)\n",
    "plt.xlabel('Diameter of Pizza')\n",
    "plt.ylabel('Price of Pizza')\n",
    "plt.show()"
   ]
  },
  {
   "cell_type": "markdown",
   "metadata": {},
   "source": [
    "## New Data\n",
    "x = Size/Diameter of Pizza      \n",
    "y = Price of Pizza"
   ]
  },
  {
   "cell_type": "code",
   "execution_count": 16,
   "metadata": {},
   "outputs": [
    {
     "name": "stdout",
     "output_type": "stream",
     "text": [
      "[[0.9762931 ]\n",
      " [1.96551724]]\n"
     ]
    },
    {
     "data": {
      "image/png": "[encoded data removed]",
      "text/plain": [
       "<Figure size 432x288 with 1 Axes>"
      ]
     },
     "metadata": {
      "needs_background": "light"
     },
     "output_type": "display_data"
    }
   ],
   "source": [
    "x = np.array([[6,1],[8,1],[10,1],[14,1],[18,1]])\n",
    "y = np.array([[7],[9],[13],[17.5],[18]])\n",
    "\n",
    "plt.scatter(x[:,0], y)"
   ]
  },
  {
   "cell_type": "markdown",
   "metadata": {},
   "source": [
    "## New W0 and W1"
   ]
  },
  {
   "cell_type": "code",
   "execution_count": 19,
   "metadata": {},
   "outputs": [
    {
     "name": "stdout",
     "output_type": "stream",
     "text": [
      "[[0.9762931 ]\n",
      " [1.96551724]]\n"
     ]
    }
   ],
   "source": [
    "xtranspose = np.matrix.transpose(x)\n",
    "xtransposex = xtranspose.dot(x) # Dot Product\n",
    "\n",
    "inverse = np.linalg.inv(xtransposex)\n",
    "ans = inverse.dot(xtranspose.dot(y))\n",
    "\n",
    "print(ans)"
   ]
  },
  {
   "cell_type": "code",
   "execution_count": 20,
   "metadata": {},
   "outputs": [
    {
     "name": "stdout",
     "output_type": "stream",
     "text": [
      "1.9655172413793167 0.9762931034482758\n"
     ]
    }
   ],
   "source": [
    "W0 = ans[1,0]\n",
    "W1 = ans[0,0]\n",
    "\n",
    "print(W0, W1)"
   ]
  },
  {
   "cell_type": "markdown",
   "metadata": {},
   "source": [
    "## Performing Linear Regression"
   ]
  },
  {
   "cell_type": "code",
   "execution_count": 22,
   "metadata": {},
   "outputs": [
    {
     "data": {
      "image/png": "[encoded data removed]",
      "text/plain": [
       "<Figure size 432x288 with 1 Axes>"
      ]
     },
     "metadata": {
      "needs_background": "light"
     },
     "output_type": "display_data"
    }
   ],
   "source": [
    "xplot = []\n",
    "yplot = []\n",
    "\n",
    "for i in range(6,19):\n",
    "    xplot.append(i)\n",
    "    yplot.append(W1*i+W0)\n",
    "    \n",
    "plt.plot(xplot, yplot)\n",
    "plt.scatter(x[:,0],y)\n",
    "plt.xlabel('Diameter of Pizza')\n",
    "plt.ylabel('Price of Pizza')\n",
    "plt.show()"
   ]
  }
 ],
 "metadata": {
  "kernelspec": {
   "display_name": "Python 3",
   "language": "python",
   "name": "python3"
  },
  "language_info": {
   "codemirror_mode": {
    "name": "ipython",
    "version": 3
   },
   "file_extension": ".py",
   "mimetype": "text/x-python",
   "name": "python",
   "nbconvert_exporter": "python",
   "pygments_lexer": "ipython3",
   "version": "3.8.3"
  }
 },
 "nbformat": 4,
 "nbformat_minor": 4
}
