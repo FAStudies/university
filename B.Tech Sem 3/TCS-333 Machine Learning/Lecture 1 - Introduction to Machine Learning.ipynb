{
 "cells": [
  {
   "cell_type": "markdown",
   "metadata": {},
   "source": [
    "**LECTURE 1**"
   ]
  },
  {
   "cell_type": "markdown",
   "metadata": {},
   "source": [
    "# Introduction to Machine Learning"
   ]
  },
  {
   "cell_type": "markdown",
   "metadata": {},
   "source": [
    "## Machine Learning\n",
    "Machine Learning is a technique to program computers to learn from data. \n",
    "\n",
    "**Example:** A model that learns from Medical Records to figure out which treatment is best for the patient. (Example: IBM Watson Cancer)"
   ]
  },
  {
   "cell_type": "markdown",
   "metadata": {},
   "source": [
    "**According to Tom M. Mitchell:**\n",
    "A computer program is said to learn from experience E, with respect to some task T and performance measure P, if it's performance at task T, as measuered by P, improves with experience E. "
   ]
  },
  {
   "cell_type": "markdown",
   "metadata": {},
   "source": [
    "**Daily Life Examples:**\n",
    "1. Google Speech to Text\n",
    "2. Text to Speech\n",
    "3. Face Detection in a camera app\n",
    "4. Autonomous Cars\n",
    "5. Fraud Detection"
   ]
  },
  {
   "cell_type": "markdown",
   "metadata": {},
   "source": [
    "## Need of Machine Learning"
   ]
  },
  {
   "cell_type": "markdown",
   "metadata": {},
   "source": [
    "### Goals of ML?\n",
    "- To make computers intellegent. (To develop system for specific practical learning in application domain. \n",
    "- To develop computational model of human learning process and perform computer simulations. \n",
    "- To explote new learning methods and develop general learning algorithm independent of application. \n",
    "\n",
    "### Why these goals are important?\n",
    "- Today we need to make computers intellegent as present day applications require huge amount of complex knowledge and data in programs and tremendous amount of work. Main bottleneck is to give an expert system the knowledge of experts.\n",
    "- If we understand human learning process, we may be able to overcome our disability in learning something or some task that seems difficult. It will lead to discovery of more efficient education techniques. \n",
    "- To create tools that are fit for multiple uses. "
   ]
  },
  {
   "cell_type": "markdown",
   "metadata": {},
   "source": [
    "## ML Process"
   ]
  },
  {
   "cell_type": "markdown",
   "metadata": {},
   "source": [
    "### 1. Obtain Dataset\n",
    "Dataset is a table in which each rows are each observation, each column represents feature (a property of that set), each cell represents a value or observation."
   ]
  },
  {
   "cell_type": "markdown",
   "metadata": {},
   "source": [
    "### 2. Divide the Dataset\n",
    "Divide the dataset into 2-3 Sets.\n",
    "#### 1. Training set\n",
    "A ML algorithm is supplied with fetures and models, which then generates a model.\n",
    "#### 2. Testing set\n",
    "The ML model is supplied with new features that we know the output of, and the model makes a prediction. Then the prediction is compared to the real output in order to calculate accuracy. Generally, an accuracy of > 85% is considered good. \n",
    "#### 3. Validation Set (Optional)\n",
    "Validation set compares the accuracy of the model over time and tells whether the model is learning from experience and improving its performance over time, or going towards negative side and worsening over time. . "
   ]
  },
  {
   "cell_type": "markdown",
   "metadata": {},
   "source": [
    "### 3. Train our ML Model\n",
    "Train our ML Model on training set. The ML algorithm depends on statistical and mathematical optimization for faster and better results. "
   ]
  },
  {
   "cell_type": "markdown",
   "metadata": {},
   "source": [
    "### 4. Optimising our Model\n",
    "This consists of finding the maxima and minima of the cost function. "
   ]
  },
  {
   "cell_type": "code",
   "execution_count": null,
   "metadata": {},
   "outputs": [],
   "source": []
  }
 ],
 "metadata": {
  "kernelspec": {
   "display_name": "Python 3",
   "language": "python",
   "name": "python3"
  },
  "language_info": {
   "codemirror_mode": {
    "name": "ipython",
    "version": 3
   },
   "file_extension": ".py",
   "mimetype": "text/x-python",
   "name": "python",
   "nbconvert_exporter": "python",
   "pygments_lexer": "ipython3",
   "version": "3.8.3"
  }
 },
 "nbformat": 4,
 "nbformat_minor": 4
}
