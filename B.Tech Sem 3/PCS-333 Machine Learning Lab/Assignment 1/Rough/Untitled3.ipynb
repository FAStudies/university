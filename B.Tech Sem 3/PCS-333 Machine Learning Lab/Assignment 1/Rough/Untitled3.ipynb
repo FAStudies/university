{
 "cells": [
  {
   "cell_type": "code",
   "execution_count": 2,
   "metadata": {},
   "outputs": [],
   "source": [
    "import numpy as np\n",
    "import math"
   ]
  },
  {
   "cell_type": "code",
   "execution_count": 3,
   "metadata": {},
   "outputs": [],
   "source": [
    "data = np.array([[0.40,0.53],[0.22,0.38],[0.35,0.32],[0.26,0.19],[0.08,0.41],[0.48,0.30]])"
   ]
  },
  {
   "cell_type": "code",
   "execution_count": 4,
   "metadata": {},
   "outputs": [
    {
     "name": "stdout",
     "output_type": "stream",
     "text": [
      "[[0.4  0.53]\n",
      " [0.22 0.38]\n",
      " [0.35 0.32]\n",
      " [0.26 0.19]\n",
      " [0.08 0.41]\n",
      " [0.48 0.3 ]]\n",
      "(6, 2)\n"
     ]
    }
   ],
   "source": [
    "print(data)\n",
    "print(data.shape)"
   ]
  },
  {
   "cell_type": "code",
   "execution_count": 5,
   "metadata": {},
   "outputs": [],
   "source": [
    "def getDistance(o1, o2):\n",
    "#     print(f'Getting distance between {a},{b}')\n",
    "    x2mx1sq = (o2[0]-o1[0])**2\n",
    "    y2my1sq = (o2[1]-o1[1])**2\n",
    "    return round(math.sqrt(x2mx1sq+y2my1sq), 2)\n",
    "\n",
    "def getMinimium(distance_matrix):\n",
    "    p = [0,0]\n",
    "    mn = distance_matrix[0][0]\n",
    "    for i in range(0, len(distance_matrix)):\n",
    "        for j in range(0, len(distance_matrix[i])):\n",
    "            if (distance_matrix[i][j]>0 and distance_matrix[i][j]<mn):\n",
    "                mn = distance_matrix[i][j]\n",
    "                p=[i,j]     \n",
    "    return p"
   ]
  },
  {
   "cell_type": "code",
   "execution_count": 6,
   "metadata": {},
   "outputs": [],
   "source": [
    "def createDistanceMatrix(array):\n",
    "    distance_matrix = [[None for _ in range(array.shape[0])] for _ in range(array.shape[0])]\n",
    "    for i in range(array.shape[0]):\n",
    "            for j in range(0,i+1):\n",
    "                distance_matrix[i][j] = getDistance(array[i,:], array[j,:])\n",
    "    return np.array(distance_matrix)"
   ]
  },
  {
   "cell_type": "code",
   "execution_count": 72,
   "metadata": {},
   "outputs": [
    {
     "name": "stdout",
     "output_type": "stream",
     "text": [
      "[[0.0 None None None None None]\n",
      " [0.23 0.0 None None None None]\n",
      " [0.22 0.14 0.0 None None None]\n",
      " [0.37 0.19 0.16 0.0 None None]\n",
      " [0.34 0.14 0.28 0.28 0.0 None]\n",
      " [0.24 0.27 0.13 0.25 0.41 0.0]]\n",
      "\n",
      "Minimum: 0.13 at Index [5, 2]\n",
      "New Cluster: [5, 2]\n",
      "y: [[None]\n",
      " [None]\n",
      " [None]\n",
      " [None]]\n",
      "x: [[0.22 0.14 0.13 0.14 0.  ]]\n",
      "[[0.0 None None None None]\n",
      " [0.23 0.0 None None None]\n",
      " [0.37 0.19 0.0 None None]\n",
      " [0.34 0.14 0.28 0.0 None]\n",
      " [0.22 0.14 0.13 0.14 0.0]]\n",
      "\n",
      "Minimum: 0.13 at Index [4, 2]\n",
      "New Cluster: [4, 2]\n",
      "y: [[None]\n",
      " [None]\n",
      " [None]]\n",
      "x: [[0.22 0.14 0.13 0.  ]]\n",
      "[[0.0 None None None]\n",
      " [0.23 0.0 None None]\n",
      " [0.34 0.14 0.0 None]\n",
      " [0.22 0.14 0.13 0.0]]\n",
      "\n",
      "Minimum: 0.13 at Index [3, 2]\n",
      "New Cluster: [3, 2]\n",
      "y: [[None]\n",
      " [None]]\n",
      "x: [[0.22 0.14 0.  ]]\n",
      "[[0.0 None None]\n",
      " [0.23 0.0 None]\n",
      " [0.22 0.14 0.0]]\n",
      "\n",
      "Minimum: 0.14 at Index [2, 1]\n",
      "New Cluster: [2, 1]\n",
      "y: [[None]]\n",
      "x: [[0.22 0.  ]]\n"
     ]
    }
   ],
   "source": [
    "def AgglomerativeClusteringScratch(array):\n",
    "    \n",
    "    distance_matrix = [[None for _ in range(array.shape[1])] for _ in range(array.shape[1])]\n",
    "    clusters = list()\n",
    "    distance_matrix = createDistanceMatrix(array)\n",
    "\n",
    "    \n",
    "    while(len(distance_matrix) > 2):\n",
    "        new_distance_matrix = distance_matrix.copy()\n",
    "        \n",
    "        ## STEP 1: Find Mimimun:\n",
    "        print(distance_matrix)\n",
    "        minIndex = [1,0]\n",
    "        minValue = distance_matrix[minIndex[0]][minIndex[1]]\n",
    "\n",
    "        for i in range(len(distance_matrix)):\n",
    "            for j in range(len(distance_matrix)):\n",
    "                if(distance_matrix[i][j]):\n",
    "                    if minValue > distance_matrix[i][j]:\n",
    "                        minValue = distance_matrix[i][j]\n",
    "                        minIndex = [i,j]\n",
    "\n",
    "        print(f'\\nMinimum: {minValue} at Index {minIndex}')\n",
    "        newCluster = minIndex.copy()\n",
    "        print(f'New Cluster: {newCluster}')\n",
    "        \n",
    "        clusters.append(newCluster)\n",
    "        \n",
    "        new_distance_matrix = np.delete(new_distance_matrix,minIndex[0],0)\n",
    "        new_distance_matrix = np.delete(new_distance_matrix,minIndex[1],0)\n",
    "        \n",
    "        new_distance_matrix = np.delete(new_distance_matrix,minIndex[0],1)\n",
    "        new_distance_matrix = np.delete(new_distance_matrix,minIndex[1],1)\n",
    "        \n",
    "        x= list()\n",
    "        for n in range(len(new_distance_matrix)):\n",
    "            if ~(n in minIndex):\n",
    "                if (distance_matrix[minIndex[0]][n]):\n",
    "                    a = distance_matrix[minIndex[0]][n]\n",
    "                if (distance_matrix[minIndex[1]][n]):\n",
    "                    b = distance_matrix[minIndex[1]][n]\n",
    "                x.append(min(a,b))\n",
    "        x.append(0.0)\n",
    "\n",
    "        y = np.array(list([None] for _ in range(len(new_distance_matrix))))\n",
    "\n",
    "        x = np.array([x])\n",
    "        \n",
    "        print('y:', y)\n",
    "        print('x:', x)\n",
    "        \n",
    "        new_distance_matrix = np.hstack((new_distance_matrix, y))\n",
    "        new_distance_matrix = np.vstack((new_distance_matrix, x))\n",
    "        \n",
    "        \n",
    "        distance_matrix = new_distance_matrix.copy()\n",
    "#         distance_matrix = np.delete(distance_matrix,minIndex[0],0)\n",
    "#         distance_matrix = np.delete(distance_matrix,minIndex[1],0)\n",
    "    return clusters\n",
    "        \n",
    "        \n",
    "    \n",
    "clusters_scratch = AgglomerativeClusteringScratch(data)\n",
    "print('Clusters formed (in order): ', clusters_scratch)"
   ]
  },
  {
   "cell_type": "code",
   "execution_count": null,
   "metadata": {},
   "outputs": [],
   "source": []
  },
  {
   "cell_type": "code",
   "execution_count": 44,
   "metadata": {},
   "outputs": [
    {
     "name": "stdout",
     "output_type": "stream",
     "text": [
      "Bitch\n"
     ]
    }
   ],
   "source": [
    "a = [1,2,4]\n",
    "b = 2\n",
    "if ~(b in a):\n",
    "    print('Bitch')"
   ]
  },
  {
   "cell_type": "code",
   "execution_count": null,
   "metadata": {},
   "outputs": [],
   "source": []
  }
 ],
 "metadata": {
  "kernelspec": {
   "display_name": "Python 3",
   "language": "python",
   "name": "python3"
  },
  "language_info": {
   "codemirror_mode": {
    "name": "ipython",
    "version": 3
   },
   "file_extension": ".py",
   "mimetype": "text/x-python",
   "name": "python",
   "nbconvert_exporter": "python",
   "pygments_lexer": "ipython3",
   "version": "3.7.6"
  }
 },
 "nbformat": 4,
 "nbformat_minor": 4
}
